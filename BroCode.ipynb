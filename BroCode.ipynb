{
 "cells": [
  {
   "cell_type": "code",
   "execution_count": 54,
   "metadata": {},
   "outputs": [],
   "source": [
    "#import packages\n",
    "import pandas as pd\n",
    "import numpy as np\n",
    "\n",
    "#to plot within notebook\n",
    "import matplotlib.pyplot as plt\n",
    "%matplotlib inline\n",
    "\n",
    "#setting figure size\n",
    "from matplotlib.pylab import rcParams\n",
    "rcParams['figure.figsize'] = 20,10\n",
    "\n",
    "#for normalizing data\n",
    "from sklearn.preprocessing import MinMaxScaler\n",
    "scaler = MinMaxScaler(feature_range=(0, 1))"
   ]
  },
  {
   "cell_type": "code",
   "execution_count": 55,
   "metadata": {},
   "outputs": [
    {
     "name": "stdout",
     "output_type": "stream",
     "text": [
      "Date         2266\n",
      "Open         2266\n",
      "High         2266\n",
      "Low          2266\n",
      "Close        2266\n",
      "Adj Close    2266\n",
      "Volume       2266\n",
      "dtype: int64\n"
     ]
    }
   ],
   "source": [
    "df = pd.read_csv('MSFT.csv')\n",
    "df = df.dropna(how='any',axis=0) \n",
    "\n",
    "#print the head\n",
    "df.head()\n",
    "print(df.count())"
   ]
  },
  {
   "cell_type": "code",
   "execution_count": 56,
   "metadata": {},
   "outputs": [
    {
     "name": "stdout",
     "output_type": "stream",
     "text": [
      "Requirement already satisfied: fastai==0.7.0 in /anaconda/envs/azureml_py36/lib/python3.6/site-packages (0.7.0)\n",
      "Requirement already satisfied: webencodings in /anaconda/envs/azureml_py36/lib/python3.6/site-packages (from fastai==0.7.0) (0.5.1)\n",
      "Requirement already satisfied: bcolz in /anaconda/envs/azureml_py36/lib/python3.6/site-packages (from fastai==0.7.0) (1.2.1)\n",
      "Requirement already satisfied: ipykernel in /anaconda/envs/azureml_py36/lib/python3.6/site-packages (from fastai==0.7.0) (5.1.2)\n",
      "Requirement already satisfied: ipython-genutils in /anaconda/envs/azureml_py36/lib/python3.6/site-packages (from fastai==0.7.0) (0.2.0)\n",
      "Requirement already satisfied: pandas-summary in /anaconda/envs/azureml_py36/lib/python3.6/site-packages (from fastai==0.7.0) (0.0.7)\n",
      "Requirement already satisfied: simplegeneric in /anaconda/envs/azureml_py36/lib/python3.6/site-packages (from fastai==0.7.0) (0.8.1)\n",
      "Requirement already satisfied: seaborn in /anaconda/envs/azureml_py36/lib/python3.6/site-packages (from fastai==0.7.0) (0.8)\n",
      "Requirement already satisfied: pyparsing in /anaconda/envs/azureml_py36/lib/python3.6/site-packages (from fastai==0.7.0) (2.4.2)\n",
      "Requirement already satisfied: numpy in /anaconda/envs/azureml_py36/lib/python3.6/site-packages (from fastai==0.7.0) (1.16.2)\n",
      "Requirement already satisfied: tqdm in /anaconda/envs/azureml_py36/lib/python3.6/site-packages (from fastai==0.7.0) (4.35.0)\n",
      "Requirement already satisfied: jsonschema in /anaconda/envs/azureml_py36/lib/python3.6/site-packages (from fastai==0.7.0) (2.6.0)\n",
      "Requirement already satisfied: scipy in /anaconda/envs/azureml_py36/lib/python3.6/site-packages (from fastai==0.7.0) (1.1.0)\n",
      "Requirement already satisfied: decorator in /anaconda/envs/azureml_py36/lib/python3.6/site-packages (from fastai==0.7.0) (4.4.0)\n",
      "Requirement already satisfied: torchvision in /anaconda/envs/azureml_py36/lib/python3.6/site-packages (from fastai==0.7.0) (0.2.1)\n",
      "Requirement already satisfied: html5lib in /anaconda/envs/azureml_py36/lib/python3.6/site-packages (from fastai==0.7.0) (0.999999999)\n",
      "Requirement already satisfied: wcwidth in /anaconda/envs/azureml_py36/lib/python3.6/site-packages (from fastai==0.7.0) (0.1.7)\n",
      "Requirement already satisfied: jupyter in /anaconda/envs/azureml_py36/lib/python3.6/site-packages (from fastai==0.7.0) (1.0.0)\n",
      "Requirement already satisfied: cycler in /anaconda/envs/azureml_py36/lib/python3.6/site-packages (from fastai==0.7.0) (0.10.0)\n",
      "Requirement already satisfied: pandas in /anaconda/envs/azureml_py36/lib/python3.6/site-packages (from fastai==0.7.0) (0.23.4)\n",
      "Requirement already satisfied: opencv-python in /anaconda/envs/azureml_py36/lib/python3.6/site-packages (from fastai==0.7.0) (4.1.1.26)\n",
      "Requirement already satisfied: pyzmq in /anaconda/envs/azureml_py36/lib/python3.6/site-packages (from fastai==0.7.0) (18.1.0)\n",
      "Requirement already satisfied: torchtext in /anaconda/envs/azureml_py36/lib/python3.6/site-packages (from fastai==0.7.0) (0.4.0)\n",
      "Requirement already satisfied: traitlets in /anaconda/envs/azureml_py36/lib/python3.6/site-packages (from fastai==0.7.0) (4.3.2)\n",
      "Requirement already satisfied: Pillow in /anaconda/envs/azureml_py36/lib/python3.6/site-packages (from fastai==0.7.0) (6.1.0)\n",
      "Requirement already satisfied: certifi in /anaconda/envs/azureml_py36/lib/python3.6/site-packages (from fastai==0.7.0) (2019.6.16)\n",
      "Requirement already satisfied: graphviz in /anaconda/envs/azureml_py36/lib/python3.6/site-packages (from fastai==0.7.0) (0.13)\n",
      "Requirement already satisfied: entrypoints in /anaconda/envs/azureml_py36/lib/python3.6/site-packages (from fastai==0.7.0) (0.2.3)\n",
      "Requirement already satisfied: MarkupSafe in /anaconda/envs/azureml_py36/lib/python3.6/site-packages (from fastai==0.7.0) (1.0)\n",
      "Requirement already satisfied: pickleshare in /anaconda/envs/azureml_py36/lib/python3.6/site-packages (from fastai==0.7.0) (0.7.4)\n",
      "Requirement already satisfied: ptyprocess in /anaconda/envs/azureml_py36/lib/python3.6/site-packages (from fastai==0.7.0) (0.5.2)\n",
      "Requirement already satisfied: tornado in /anaconda/envs/azureml_py36/lib/python3.6/site-packages (from fastai==0.7.0) (6.0.3)\n",
      "Requirement already satisfied: torch<0.4 in /anaconda/envs/azureml_py36/lib/python3.6/site-packages (from fastai==0.7.0) (0.3.1)\n",
      "Requirement already satisfied: Jinja2 in /anaconda/envs/azureml_py36/lib/python3.6/site-packages (from fastai==0.7.0) (2.10.1)\n",
      "Requirement already satisfied: isoweek in /anaconda/envs/azureml_py36/lib/python3.6/site-packages (from fastai==0.7.0) (1.3.3)\n",
      "Requirement already satisfied: widgetsnbextension in /anaconda/envs/azureml_py36/lib/python3.6/site-packages (from fastai==0.7.0) (3.0.2)\n",
      "Requirement already satisfied: Pygments in /anaconda/envs/azureml_py36/lib/python3.6/site-packages (from fastai==0.7.0) (2.2.0)\n",
      "Requirement already satisfied: sklearn-pandas in /anaconda/envs/azureml_py36/lib/python3.6/site-packages (from fastai==0.7.0) (1.7.0)\n",
      "Requirement already satisfied: jedi in /anaconda/envs/azureml_py36/lib/python3.6/site-packages (from fastai==0.7.0) (0.10.2)\n",
      "Requirement already satisfied: pytz in /anaconda/envs/azureml_py36/lib/python3.6/site-packages (from fastai==0.7.0) (2017.2)\n",
      "Requirement already satisfied: testpath in /anaconda/envs/azureml_py36/lib/python3.6/site-packages (from fastai==0.7.0) (0.3.1)\n",
      "Requirement already satisfied: bleach in /anaconda/envs/azureml_py36/lib/python3.6/site-packages (from fastai==0.7.0) (2.0.0)\n",
      "Requirement already satisfied: feather-format in /anaconda/envs/azureml_py36/lib/python3.6/site-packages (from fastai==0.7.0) (0.4.0)\n",
      "Requirement already satisfied: ipython in /anaconda/envs/azureml_py36/lib/python3.6/site-packages (from fastai==0.7.0) (6.1.0)\n",
      "Requirement already satisfied: python-dateutil in /anaconda/envs/azureml_py36/lib/python3.6/site-packages (from fastai==0.7.0) (2.8.0)\n",
      "Requirement already satisfied: matplotlib in /anaconda/envs/azureml_py36/lib/python3.6/site-packages (from fastai==0.7.0) (3.1.1)\n",
      "Requirement already satisfied: PyYAML in /anaconda/envs/azureml_py36/lib/python3.6/site-packages (from fastai==0.7.0) (3.12)\n",
      "Requirement already satisfied: ipywidgets in /anaconda/envs/azureml_py36/lib/python3.6/site-packages (from fastai==0.7.0) (7.0.0)\n",
      "Requirement already satisfied: plotnine in /anaconda/envs/azureml_py36/lib/python3.6/site-packages (from fastai==0.7.0) (0.6.0)\n",
      "Requirement already satisfied: jupyter-client in /anaconda/envs/azureml_py36/lib/python3.6/site-packages (from ipykernel->fastai==0.7.0) (5.3.1)\n",
      "Requirement already satisfied: six in /anaconda/envs/azureml_py36/lib/python3.6/site-packages (from torchvision->fastai==0.7.0) (1.12.0)\n",
      "Requirement already satisfied: setuptools>=18.5 in /anaconda/envs/azureml_py36/lib/python3.6/site-packages (from html5lib->fastai==0.7.0) (41.2.0)\n",
      "Requirement already satisfied: jupyter-console in /anaconda/envs/azureml_py36/lib/python3.6/site-packages (from jupyter->fastai==0.7.0) (5.2.0)\n",
      "Requirement already satisfied: notebook in /anaconda/envs/azureml_py36/lib/python3.6/site-packages (from jupyter->fastai==0.7.0) (6.0.0)\n",
      "Requirement already satisfied: qtconsole in /anaconda/envs/azureml_py36/lib/python3.6/site-packages (from jupyter->fastai==0.7.0) (4.3.1)\n",
      "Requirement already satisfied: nbconvert in /anaconda/envs/azureml_py36/lib/python3.6/site-packages (from jupyter->fastai==0.7.0) (5.4.1)\n",
      "Requirement already satisfied: requests in /anaconda/envs/azureml_py36/lib/python3.6/site-packages (from torchtext->fastai==0.7.0) (2.22.0)\n",
      "Requirement already satisfied: scikit-learn>=0.15.0 in /anaconda/envs/azureml_py36/lib/python3.6/site-packages (from sklearn-pandas->fastai==0.7.0) (0.20.3)\n",
      "Requirement already satisfied: pyarrow>=0.4.0 in /anaconda/envs/azureml_py36/lib/python3.6/site-packages (from feather-format->fastai==0.7.0) (0.13.0)\n",
      "Requirement already satisfied: prompt_toolkit<2.0.0,>=1.0.4 in /anaconda/envs/azureml_py36/lib/python3.6/site-packages (from ipython->fastai==0.7.0) (1.0.15)\n",
      "Requirement already satisfied: pexpect in /anaconda/envs/azureml_py36/lib/python3.6/site-packages (from ipython->fastai==0.7.0) (4.2.1)\n",
      "Requirement already satisfied: kiwisolver>=1.0.1 in /anaconda/envs/azureml_py36/lib/python3.6/site-packages (from matplotlib->fastai==0.7.0) (1.1.0)\n",
      "Requirement already satisfied: nbformat>=4.2.0 in /anaconda/envs/azureml_py36/lib/python3.6/site-packages (from ipywidgets->fastai==0.7.0) (4.4.0)\n",
      "Requirement already satisfied: statsmodels>=0.9.0 in /anaconda/envs/azureml_py36/lib/python3.6/site-packages (from plotnine->fastai==0.7.0) (0.10.1)\n",
      "Requirement already satisfied: patsy>=0.4.1 in /anaconda/envs/azureml_py36/lib/python3.6/site-packages (from plotnine->fastai==0.7.0) (0.5.1)\n",
      "Requirement already satisfied: descartes>=1.1.0 in /anaconda/envs/azureml_py36/lib/python3.6/site-packages (from plotnine->fastai==0.7.0) (1.1.0)\n",
      "Requirement already satisfied: mizani>=0.6.0 in /anaconda/envs/azureml_py36/lib/python3.6/site-packages (from plotnine->fastai==0.7.0) (0.6.0)\n",
      "Requirement already satisfied: jupyter-core in /anaconda/envs/azureml_py36/lib/python3.6/site-packages (from jupyter-client->ipykernel->fastai==0.7.0) (4.5.0)\n",
      "Requirement already satisfied: Send2Trash in /anaconda/envs/azureml_py36/lib/python3.6/site-packages (from notebook->jupyter->fastai==0.7.0) (1.5.0)\n",
      "Requirement already satisfied: terminado>=0.8.1 in /anaconda/envs/azureml_py36/lib/python3.6/site-packages (from notebook->jupyter->fastai==0.7.0) (0.8.2)\n",
      "Requirement already satisfied: prometheus-client in /anaconda/envs/azureml_py36/lib/python3.6/site-packages (from notebook->jupyter->fastai==0.7.0) (0.7.1)\n",
      "Requirement already satisfied: pandocfilters>=1.4.1 in /anaconda/envs/azureml_py36/lib/python3.6/site-packages (from nbconvert->jupyter->fastai==0.7.0) (1.4.2)\n",
      "Requirement already satisfied: mistune>=0.8.1 in /anaconda/envs/azureml_py36/lib/python3.6/site-packages (from nbconvert->jupyter->fastai==0.7.0) (0.8.4)\n",
      "Requirement already satisfied: defusedxml in /anaconda/envs/azureml_py36/lib/python3.6/site-packages (from nbconvert->jupyter->fastai==0.7.0) (0.6.0)\n",
      "Requirement already satisfied: urllib3!=1.25.0,!=1.25.1,<1.26,>=1.21.1 in /anaconda/envs/azureml_py36/lib/python3.6/site-packages (from requests->torchtext->fastai==0.7.0) (1.25.3)\r\n",
      "Requirement already satisfied: chardet<3.1.0,>=3.0.2 in /anaconda/envs/azureml_py36/lib/python3.6/site-packages (from requests->torchtext->fastai==0.7.0) (3.0.4)\r\n",
      "Requirement already satisfied: idna<2.9,>=2.5 in /anaconda/envs/azureml_py36/lib/python3.6/site-packages (from requests->torchtext->fastai==0.7.0) (2.8)\r\n",
      "Requirement already satisfied: palettable in /anaconda/envs/azureml_py36/lib/python3.6/site-packages (from mizani>=0.6.0->plotnine->fastai==0.7.0) (3.3.0)\r\n"
     ]
    }
   ],
   "source": [
    "!pip install fastai==0.7.0"
   ]
  },
  {
   "cell_type": "code",
   "execution_count": 57,
   "metadata": {},
   "outputs": [
    {
     "data": {
      "text/plain": [
       "[<matplotlib.lines.Line2D at 0x7f95b1b76630>]"
      ]
     },
     "execution_count": 57,
     "metadata": {},
     "output_type": "execute_result"
    },
    {
     "data": {
      "image/png": "[encoded data removed]",
      "text/plain": [
       "<Figure size 1152x576 with 1 Axes>"
      ]
     },
     "metadata": {
      "needs_background": "light"
     },
     "output_type": "display_data"
    }
   ],
   "source": [
    "#setting index as date\n",
    "df['Date'] = pd.to_datetime(df.Date,format='%Y-%m-%d')\n",
    "df.index = df['Date']\n",
    "\n",
    "#plot\n",
    "plt.figure(figsize=(16,8))\n",
    "plt.plot(df['Close'], label='Close Price history')\n"
   ]
  },
  {
   "cell_type": "code",
   "execution_count": 58,
   "metadata": {},
   "outputs": [],
   "source": [
    "df['Date'] = pd.to_datetime(df.Date,format='%Y-%m-%d')\n",
    "df.index = df['Date']\n",
    "\n",
    "#sorting\n",
    "data = df.sort_index(ascending=True, axis=0)\n",
    "\n",
    "#creating a separate dataset\n",
    "new_data = pd.DataFrame(index=range(0,len(df)),columns=['Date', 'Close'])\n",
    "\n",
    "for i in range(0,len(data)):\n",
    "    new_data['Date'][i] = data['Date'][i]\n",
    "    new_data['Close'][i] = data['Close'][i]\n",
    "\n",
    " "
   ]
  },
  {
   "cell_type": "code",
   "execution_count": 59,
   "metadata": {},
   "outputs": [],
   "source": [
    "from fastai.structured import  add_datepart\n",
    "add_datepart(new_data, 'Date')\n",
    "new_data.drop('Elapsed', axis=1, inplace=True)  #elapsed will be the time stamp"
   ]
  },
  {
   "cell_type": "code",
   "execution_count": 60,
   "metadata": {},
   "outputs": [
    {
     "data": {
      "text/html": [
       "<div>\n",
       "<style scoped>\n",
       "    .dataframe tbody tr th:only-of-type {\n",
       "        vertical-align: middle;\n",
       "    }\n",
       "\n",
       "    .dataframe tbody tr th {\n",
       "        vertical-align: top;\n",
       "    }\n",
       "\n",
       "    .dataframe thead th {\n",
       "        text-align: right;\n",
       "    }\n",
       "</style>\n",
       "<table border=\"1\" class=\"dataframe\">\n",
       "  <thead>\n",
       "    <tr style=\"text-align: right;\">\n",
       "      <th></th>\n",
       "      <th>Close</th>\n",
       "      <th>Year</th>\n",
       "      <th>Month</th>\n",
       "      <th>Week</th>\n",
       "      <th>Day</th>\n",
       "      <th>Dayofweek</th>\n",
       "      <th>Dayofyear</th>\n",
       "      <th>Is_month_end</th>\n",
       "      <th>Is_month_start</th>\n",
       "      <th>Is_quarter_end</th>\n",
       "      <th>Is_quarter_start</th>\n",
       "      <th>Is_year_end</th>\n",
       "      <th>Is_year_start</th>\n",
       "    </tr>\n",
       "  </thead>\n",
       "  <tbody>\n",
       "    <tr>\n",
       "      <th>0</th>\n",
       "      <td>25.03</td>\n",
       "      <td>2010</td>\n",
       "      <td>9</td>\n",
       "      <td>37</td>\n",
       "      <td>14</td>\n",
       "      <td>1</td>\n",
       "      <td>257</td>\n",
       "      <td>False</td>\n",
       "      <td>False</td>\n",
       "      <td>False</td>\n",
       "      <td>False</td>\n",
       "      <td>False</td>\n",
       "      <td>False</td>\n",
       "    </tr>\n",
       "    <tr>\n",
       "      <th>1</th>\n",
       "      <td>25.12</td>\n",
       "      <td>2010</td>\n",
       "      <td>9</td>\n",
       "      <td>37</td>\n",
       "      <td>15</td>\n",
       "      <td>2</td>\n",
       "      <td>258</td>\n",
       "      <td>False</td>\n",
       "      <td>False</td>\n",
       "      <td>False</td>\n",
       "      <td>False</td>\n",
       "      <td>False</td>\n",
       "      <td>False</td>\n",
       "    </tr>\n",
       "    <tr>\n",
       "      <th>2</th>\n",
       "      <td>25.33</td>\n",
       "      <td>2010</td>\n",
       "      <td>9</td>\n",
       "      <td>37</td>\n",
       "      <td>16</td>\n",
       "      <td>3</td>\n",
       "      <td>259</td>\n",
       "      <td>False</td>\n",
       "      <td>False</td>\n",
       "      <td>False</td>\n",
       "      <td>False</td>\n",
       "      <td>False</td>\n",
       "      <td>False</td>\n",
       "    </tr>\n",
       "    <tr>\n",
       "      <th>3</th>\n",
       "      <td>25.22</td>\n",
       "      <td>2010</td>\n",
       "      <td>9</td>\n",
       "      <td>37</td>\n",
       "      <td>17</td>\n",
       "      <td>4</td>\n",
       "      <td>260</td>\n",
       "      <td>False</td>\n",
       "      <td>False</td>\n",
       "      <td>False</td>\n",
       "      <td>False</td>\n",
       "      <td>False</td>\n",
       "      <td>False</td>\n",
       "    </tr>\n",
       "    <tr>\n",
       "      <th>4</th>\n",
       "      <td>25.43</td>\n",
       "      <td>2010</td>\n",
       "      <td>9</td>\n",
       "      <td>38</td>\n",
       "      <td>20</td>\n",
       "      <td>0</td>\n",
       "      <td>263</td>\n",
       "      <td>False</td>\n",
       "      <td>False</td>\n",
       "      <td>False</td>\n",
       "      <td>False</td>\n",
       "      <td>False</td>\n",
       "      <td>False</td>\n",
       "    </tr>\n",
       "  </tbody>\n",
       "</table>\n",
       "</div>"
      ],
      "text/plain": [
       "   Close  Year  Month  Week  Day  Dayofweek  Dayofyear  Is_month_end  \\\n",
       "0  25.03  2010      9    37   14          1        257         False   \n",
       "1  25.12  2010      9    37   15          2        258         False   \n",
       "2  25.33  2010      9    37   16          3        259         False   \n",
       "3  25.22  2010      9    37   17          4        260         False   \n",
       "4  25.43  2010      9    38   20          0        263         False   \n",
       "\n",
       "   Is_month_start  Is_quarter_end  Is_quarter_start  Is_year_end  \\\n",
       "0           False           False             False        False   \n",
       "1           False           False             False        False   \n",
       "2           False           False             False        False   \n",
       "3           False           False             False        False   \n",
       "4           False           False             False        False   \n",
       "\n",
       "   Is_year_start  \n",
       "0          False  \n",
       "1          False  \n",
       "2          False  \n",
       "3          False  \n",
       "4          False  "
      ]
     },
     "execution_count": 60,
     "metadata": {},
     "output_type": "execute_result"
    }
   ],
   "source": [
    "new_data.head(5)"
   ]
  },
  {
   "cell_type": "code",
   "execution_count": 9,
   "metadata": {},
   "outputs": [
    {
     "name": "stderr",
     "output_type": "stream",
     "text": [
      "/anaconda/envs/azureml_py36/lib/python3.6/site-packages/ipykernel_launcher.py:6: SettingWithCopyWarning: \n",
      "A value is trying to be set on a copy of a slice from a DataFrame\n",
      "\n",
      "See the caveats in the documentation: http://pandas.pydata.org/pandas-docs/stable/indexing.html#indexing-view-versus-copy\n",
      "  \n",
      "/anaconda/envs/azureml_py36/lib/python3.6/site-packages/ipykernel_launcher.py:4: SettingWithCopyWarning: \n",
      "A value is trying to be set on a copy of a slice from a DataFrame\n",
      "\n",
      "See the caveats in the documentation: http://pandas.pydata.org/pandas-docs/stable/indexing.html#indexing-view-versus-copy\n",
      "  after removing the cwd from sys.path.\n"
     ]
    }
   ],
   "source": [
    "new_data['mon_fri'] = 0\n",
    "for i in range(0,len(new_data)):\n",
    "    if (new_data['Dayofweek'][i] == 0 or new_data['Dayofweek'][i] == 4):\n",
    "        new_data['mon_fri'][i] = 1\n",
    "    else:\n",
    "        new_data['mon_fri'][i] = 0"
   ]
  },
  {
   "cell_type": "code",
   "execution_count": 12,
   "metadata": {},
   "outputs": [
    {
     "data": {
      "text/html": [
       "<div>\n",
       "<style scoped>\n",
       "    .dataframe tbody tr th:only-of-type {\n",
       "        vertical-align: middle;\n",
       "    }\n",
       "\n",
       "    .dataframe tbody tr th {\n",
       "        vertical-align: top;\n",
       "    }\n",
       "\n",
       "    .dataframe thead th {\n",
       "        text-align: right;\n",
       "    }\n",
       "</style>\n",
       "<table border=\"1\" class=\"dataframe\">\n",
       "  <thead>\n",
       "    <tr style=\"text-align: right;\">\n",
       "      <th></th>\n",
       "      <th>Close</th>\n",
       "      <th>Year</th>\n",
       "      <th>Month</th>\n",
       "      <th>Week</th>\n",
       "      <th>Day</th>\n",
       "      <th>Dayofweek</th>\n",
       "      <th>Dayofyear</th>\n",
       "      <th>Is_month_end</th>\n",
       "      <th>Is_month_start</th>\n",
       "      <th>Is_quarter_end</th>\n",
       "      <th>Is_quarter_start</th>\n",
       "      <th>Is_year_end</th>\n",
       "      <th>Is_year_start</th>\n",
       "      <th>mon_fri</th>\n",
       "    </tr>\n",
       "  </thead>\n",
       "  <tbody>\n",
       "    <tr>\n",
       "      <th>0</th>\n",
       "      <td>25.03</td>\n",
       "      <td>2010</td>\n",
       "      <td>9</td>\n",
       "      <td>37</td>\n",
       "      <td>14</td>\n",
       "      <td>1</td>\n",
       "      <td>257</td>\n",
       "      <td>False</td>\n",
       "      <td>False</td>\n",
       "      <td>False</td>\n",
       "      <td>False</td>\n",
       "      <td>False</td>\n",
       "      <td>False</td>\n",
       "      <td>0</td>\n",
       "    </tr>\n",
       "    <tr>\n",
       "      <th>1</th>\n",
       "      <td>25.12</td>\n",
       "      <td>2010</td>\n",
       "      <td>9</td>\n",
       "      <td>37</td>\n",
       "      <td>15</td>\n",
       "      <td>2</td>\n",
       "      <td>258</td>\n",
       "      <td>False</td>\n",
       "      <td>False</td>\n",
       "      <td>False</td>\n",
       "      <td>False</td>\n",
       "      <td>False</td>\n",
       "      <td>False</td>\n",
       "      <td>0</td>\n",
       "    </tr>\n",
       "    <tr>\n",
       "      <th>2</th>\n",
       "      <td>25.33</td>\n",
       "      <td>2010</td>\n",
       "      <td>9</td>\n",
       "      <td>37</td>\n",
       "      <td>16</td>\n",
       "      <td>3</td>\n",
       "      <td>259</td>\n",
       "      <td>False</td>\n",
       "      <td>False</td>\n",
       "      <td>False</td>\n",
       "      <td>False</td>\n",
       "      <td>False</td>\n",
       "      <td>False</td>\n",
       "      <td>0</td>\n",
       "    </tr>\n",
       "    <tr>\n",
       "      <th>3</th>\n",
       "      <td>25.22</td>\n",
       "      <td>2010</td>\n",
       "      <td>9</td>\n",
       "      <td>37</td>\n",
       "      <td>17</td>\n",
       "      <td>4</td>\n",
       "      <td>260</td>\n",
       "      <td>False</td>\n",
       "      <td>False</td>\n",
       "      <td>False</td>\n",
       "      <td>False</td>\n",
       "      <td>False</td>\n",
       "      <td>False</td>\n",
       "      <td>1</td>\n",
       "    </tr>\n",
       "    <tr>\n",
       "      <th>4</th>\n",
       "      <td>25.43</td>\n",
       "      <td>2010</td>\n",
       "      <td>9</td>\n",
       "      <td>38</td>\n",
       "      <td>20</td>\n",
       "      <td>0</td>\n",
       "      <td>263</td>\n",
       "      <td>False</td>\n",
       "      <td>False</td>\n",
       "      <td>False</td>\n",
       "      <td>False</td>\n",
       "      <td>False</td>\n",
       "      <td>False</td>\n",
       "      <td>1</td>\n",
       "    </tr>\n",
       "    <tr>\n",
       "      <th>5</th>\n",
       "      <td>25.15</td>\n",
       "      <td>2010</td>\n",
       "      <td>9</td>\n",
       "      <td>38</td>\n",
       "      <td>21</td>\n",
       "      <td>1</td>\n",
       "      <td>264</td>\n",
       "      <td>False</td>\n",
       "      <td>False</td>\n",
       "      <td>False</td>\n",
       "      <td>False</td>\n",
       "      <td>False</td>\n",
       "      <td>False</td>\n",
       "      <td>0</td>\n",
       "    </tr>\n",
       "    <tr>\n",
       "      <th>6</th>\n",
       "      <td>24.61</td>\n",
       "      <td>2010</td>\n",
       "      <td>9</td>\n",
       "      <td>38</td>\n",
       "      <td>22</td>\n",
       "      <td>2</td>\n",
       "      <td>265</td>\n",
       "      <td>False</td>\n",
       "      <td>False</td>\n",
       "      <td>False</td>\n",
       "      <td>False</td>\n",
       "      <td>False</td>\n",
       "      <td>False</td>\n",
       "      <td>0</td>\n",
       "    </tr>\n",
       "    <tr>\n",
       "      <th>7</th>\n",
       "      <td>24.43</td>\n",
       "      <td>2010</td>\n",
       "      <td>9</td>\n",
       "      <td>38</td>\n",
       "      <td>23</td>\n",
       "      <td>3</td>\n",
       "      <td>266</td>\n",
       "      <td>False</td>\n",
       "      <td>False</td>\n",
       "      <td>False</td>\n",
       "      <td>False</td>\n",
       "      <td>False</td>\n",
       "      <td>False</td>\n",
       "      <td>0</td>\n",
       "    </tr>\n",
       "    <tr>\n",
       "      <th>8</th>\n",
       "      <td>24.78</td>\n",
       "      <td>2010</td>\n",
       "      <td>9</td>\n",
       "      <td>38</td>\n",
       "      <td>24</td>\n",
       "      <td>4</td>\n",
       "      <td>267</td>\n",
       "      <td>False</td>\n",
       "      <td>False</td>\n",
       "      <td>False</td>\n",
       "      <td>False</td>\n",
       "      <td>False</td>\n",
       "      <td>False</td>\n",
       "      <td>1</td>\n",
       "    </tr>\n",
       "    <tr>\n",
       "      <th>9</th>\n",
       "      <td>24.73</td>\n",
       "      <td>2010</td>\n",
       "      <td>9</td>\n",
       "      <td>39</td>\n",
       "      <td>27</td>\n",
       "      <td>0</td>\n",
       "      <td>270</td>\n",
       "      <td>False</td>\n",
       "      <td>False</td>\n",
       "      <td>False</td>\n",
       "      <td>False</td>\n",
       "      <td>False</td>\n",
       "      <td>False</td>\n",
       "      <td>1</td>\n",
       "    </tr>\n",
       "  </tbody>\n",
       "</table>\n",
       "</div>"
      ],
      "text/plain": [
       "   Close  Year  Month  Week  Day  Dayofweek  Dayofyear  Is_month_end  \\\n",
       "0  25.03  2010      9    37   14          1        257         False   \n",
       "1  25.12  2010      9    37   15          2        258         False   \n",
       "2  25.33  2010      9    37   16          3        259         False   \n",
       "3  25.22  2010      9    37   17          4        260         False   \n",
       "4  25.43  2010      9    38   20          0        263         False   \n",
       "5  25.15  2010      9    38   21          1        264         False   \n",
       "6  24.61  2010      9    38   22          2        265         False   \n",
       "7  24.43  2010      9    38   23          3        266         False   \n",
       "8  24.78  2010      9    38   24          4        267         False   \n",
       "9  24.73  2010      9    39   27          0        270         False   \n",
       "\n",
       "   Is_month_start  Is_quarter_end  Is_quarter_start  Is_year_end  \\\n",
       "0           False           False             False        False   \n",
       "1           False           False             False        False   \n",
       "2           False           False             False        False   \n",
       "3           False           False             False        False   \n",
       "4           False           False             False        False   \n",
       "5           False           False             False        False   \n",
       "6           False           False             False        False   \n",
       "7           False           False             False        False   \n",
       "8           False           False             False        False   \n",
       "9           False           False             False        False   \n",
       "\n",
       "   Is_year_start  mon_fri  \n",
       "0          False        0  \n",
       "1          False        0  \n",
       "2          False        0  \n",
       "3          False        1  \n",
       "4          False        1  \n",
       "5          False        0  \n",
       "6          False        0  \n",
       "7          False        0  \n",
       "8          False        1  \n",
       "9          False        1  "
      ]
     },
     "execution_count": 12,
     "metadata": {},
     "output_type": "execute_result"
    }
   ],
   "source": [
    "new_data.head(10)"
   ]
  },
  {
   "cell_type": "code",
   "execution_count": 61,
   "metadata": {},
   "outputs": [
    {
     "data": {
      "text/plain": [
       "LinearRegression(copy_X=True, fit_intercept=True, n_jobs=None,\n",
       "         normalize=False)"
      ]
     },
     "execution_count": 61,
     "metadata": {},
     "output_type": "execute_result"
    }
   ],
   "source": [
    "train = new_data[:1812]\n",
    "valid = new_data[1812:]\n",
    "\n",
    "x_train = train.drop('Close', axis=1)\n",
    "y_train = train['Close']\n",
    "x_valid = valid.drop('Close', axis=1)\n",
    "y_valid = valid['Close']\n",
    "\n",
    "#implement linear regression\n",
    "from sklearn.linear_model import LinearRegression\n",
    "model = LinearRegression()\n",
    "model.fit(x_train,y_train)"
   ]
  },
  {
   "cell_type": "code",
   "execution_count": 62,
   "metadata": {},
   "outputs": [
    {
     "name": "stdout",
     "output_type": "stream",
     "text": [
      "38.36251475279234\n"
     ]
    }
   ],
   "source": [
    "preds = model.predict(x_valid)\n",
    "\n",
    "rms=np.sqrt(np.mean(np.power((np.array(y_valid)-np.array(preds)),2)))\n",
    "print(rms)"
   ]
  },
  {
   "cell_type": "code",
   "execution_count": 63,
   "metadata": {},
   "outputs": [
    {
     "name": "stdout",
     "output_type": "stream",
     "text": [
      "      Year  Month  Week  Day  Dayofweek  Dayofyear  Is_month_end  \\\n",
      "1812  2017     11    47   22          2        326         False   \n",
      "1813  2017     11    47   24          4        328         False   \n",
      "1814  2017     11    48   27          0        331         False   \n",
      "1815  2017     11    48   28          1        332         False   \n",
      "1816  2017     11    48   29          2        333         False   \n",
      "1817  2017     11    48   30          3        334          True   \n",
      "1818  2017     12    48    1          4        335         False   \n",
      "1819  2017     12    49    4          0        338         False   \n",
      "1820  2017     12    49    5          1        339         False   \n",
      "1821  2017     12    49    6          2        340         False   \n",
      "1822  2017     12    49    7          3        341         False   \n",
      "1823  2017     12    49    8          4        342         False   \n",
      "1824  2017     12    50   11          0        345         False   \n",
      "1825  2017     12    50   12          1        346         False   \n",
      "1826  2017     12    50   13          2        347         False   \n",
      "1827  2017     12    50   14          3        348         False   \n",
      "1828  2017     12    50   15          4        349         False   \n",
      "1829  2017     12    51   18          0        352         False   \n",
      "1830  2017     12    51   19          1        353         False   \n",
      "1831  2017     12    51   20          2        354         False   \n",
      "1832  2017     12    51   21          3        355         False   \n",
      "1833  2017     12    51   22          4        356         False   \n",
      "1834  2017     12    52   26          1        360         False   \n",
      "1835  2017     12    52   27          2        361         False   \n",
      "1836  2017     12    52   28          3        362         False   \n",
      "1837  2017     12    52   29          4        363         False   \n",
      "1838  2018      1     1    2          1          2         False   \n",
      "1839  2018      1     1    3          2          3         False   \n",
      "1840  2018      1     1    4          3          4         False   \n",
      "1841  2018      1     1    5          4          5         False   \n",
      "...    ...    ...   ...  ...        ...        ...           ...   \n",
      "2236  2019      8    31    2          4        214         False   \n",
      "2237  2019      8    32    5          0        217         False   \n",
      "2238  2019      8    32    6          1        218         False   \n",
      "2239  2019      8    32    7          2        219         False   \n",
      "2240  2019      8    32    8          3        220         False   \n",
      "2241  2019      8    32    9          4        221         False   \n",
      "2242  2019      8    33   12          0        224         False   \n",
      "2243  2019      8    33   13          1        225         False   \n",
      "2244  2019      8    33   14          2        226         False   \n",
      "2245  2019      8    33   15          3        227         False   \n",
      "2246  2019      8    33   16          4        228         False   \n",
      "2247  2019      8    34   19          0        231         False   \n",
      "2248  2019      8    34   20          1        232         False   \n",
      "2249  2019      8    34   21          2        233         False   \n",
      "2250  2019      8    34   22          3        234         False   \n",
      "2251  2019      8    34   23          4        235         False   \n",
      "2252  2019      8    35   26          0        238         False   \n",
      "2253  2019      8    35   27          1        239         False   \n",
      "2254  2019      8    35   28          2        240         False   \n",
      "2255  2019      8    35   29          3        241         False   \n",
      "2256  2019      8    35   30          4        242         False   \n",
      "2257  2019      9    36    3          1        246         False   \n",
      "2258  2019      9    36    4          2        247         False   \n",
      "2259  2019      9    36    5          3        248         False   \n",
      "2260  2019      9    36    6          4        249         False   \n",
      "2261  2019      9    37    9          0        252         False   \n",
      "2262  2019      9    37   10          1        253         False   \n",
      "2263  2019      9    37   11          2        254         False   \n",
      "2264  2019      9    37   12          3        255         False   \n",
      "2265  2019      9    37   13          4        256         False   \n",
      "\n",
      "      Is_month_start  Is_quarter_end  Is_quarter_start  Is_year_end  \\\n",
      "1812           False           False             False        False   \n",
      "1813           False           False             False        False   \n",
      "1814           False           False             False        False   \n",
      "1815           False           False             False        False   \n",
      "1816           False           False             False        False   \n",
      "1817           False           False             False        False   \n",
      "1818            True           False             False        False   \n",
      "1819           False           False             False        False   \n",
      "1820           False           False             False        False   \n",
      "1821           False           False             False        False   \n",
      "1822           False           False             False        False   \n",
      "1823           False           False             False        False   \n",
      "1824           False           False             False        False   \n",
      "1825           False           False             False        False   \n",
      "1826           False           False             False        False   \n",
      "1827           False           False             False        False   \n",
      "1828           False           False             False        False   \n",
      "1829           False           False             False        False   \n",
      "1830           False           False             False        False   \n",
      "1831           False           False             False        False   \n",
      "1832           False           False             False        False   \n",
      "1833           False           False             False        False   \n",
      "1834           False           False             False        False   \n",
      "1835           False           False             False        False   \n",
      "1836           False           False             False        False   \n",
      "1837           False           False             False        False   \n",
      "1838           False           False             False        False   \n",
      "1839           False           False             False        False   \n",
      "1840           False           False             False        False   \n",
      "1841           False           False             False        False   \n",
      "...              ...             ...               ...          ...   \n",
      "2236           False           False             False        False   \n",
      "2237           False           False             False        False   \n",
      "2238           False           False             False        False   \n",
      "2239           False           False             False        False   \n",
      "2240           False           False             False        False   \n",
      "2241           False           False             False        False   \n",
      "2242           False           False             False        False   \n",
      "2243           False           False             False        False   \n",
      "2244           False           False             False        False   \n",
      "2245           False           False             False        False   \n",
      "2246           False           False             False        False   \n",
      "2247           False           False             False        False   \n",
      "2248           False           False             False        False   \n",
      "2249           False           False             False        False   \n",
      "2250           False           False             False        False   \n",
      "2251           False           False             False        False   \n",
      "2252           False           False             False        False   \n",
      "2253           False           False             False        False   \n",
      "2254           False           False             False        False   \n",
      "2255           False           False             False        False   \n",
      "2256           False           False             False        False   \n",
      "2257           False           False             False        False   \n",
      "2258           False           False             False        False   \n",
      "2259           False           False             False        False   \n",
      "2260           False           False             False        False   \n",
      "2261           False           False             False        False   \n",
      "2262           False           False             False        False   \n",
      "2263           False           False             False        False   \n",
      "2264           False           False             False        False   \n",
      "2265           False           False             False        False   \n",
      "\n",
      "      Is_year_start  \n",
      "1812          False  \n",
      "1813          False  \n",
      "1814          False  \n",
      "1815          False  \n",
      "1816          False  \n",
      "1817          False  \n",
      "1818          False  \n",
      "1819          False  \n",
      "1820          False  \n",
      "1821          False  \n",
      "1822          False  \n",
      "1823          False  \n",
      "1824          False  \n",
      "1825          False  \n",
      "1826          False  \n",
      "1827          False  \n",
      "1828          False  \n",
      "1829          False  \n",
      "1830          False  \n",
      "1831          False  \n",
      "1832          False  \n",
      "1833          False  \n",
      "1834          False  \n",
      "1835          False  \n",
      "1836          False  \n",
      "1837          False  \n",
      "1838          False  \n",
      "1839          False  \n",
      "1840          False  \n",
      "1841          False  \n",
      "...             ...  \n",
      "2236          False  \n",
      "2237          False  \n",
      "2238          False  \n",
      "2239          False  \n",
      "2240          False  \n",
      "2241          False  \n",
      "2242          False  \n",
      "2243          False  \n",
      "2244          False  \n",
      "2245          False  \n",
      "2246          False  \n",
      "2247          False  \n",
      "2248          False  \n",
      "2249          False  \n",
      "2250          False  \n",
      "2251          False  \n",
      "2252          False  \n",
      "2253          False  \n",
      "2254          False  \n",
      "2255          False  \n",
      "2256          False  \n",
      "2257          False  \n",
      "2258          False  \n",
      "2259          False  \n",
      "2260          False  \n",
      "2261          False  \n",
      "2262          False  \n",
      "2263          False  \n",
      "2264          False  \n",
      "2265          False  \n",
      "\n",
      "[454 rows x 12 columns]\n"
     ]
    }
   ],
   "source": [
    "print(x_valid)"
   ]
  },
  {
   "cell_type": "code",
   "execution_count": 64,
   "metadata": {},
   "outputs": [],
   "source": [
    "import _pickle as cPickle\n",
    "with open('linear.pkl', 'wb') as fid:\n",
    "    cPickle.dump(model, fid)"
   ]
  },
  {
   "cell_type": "code",
   "execution_count": 65,
   "metadata": {},
   "outputs": [],
   "source": [
    "from sklearn.preprocessing import MinMaxScaler\n",
    "from keras.models import Sequential\n",
    "from keras.layers import Dense, Dropout, LSTM"
   ]
  },
  {
   "cell_type": "code",
   "execution_count": 66,
   "metadata": {},
   "outputs": [],
   "source": [
    "data = df.sort_index(ascending=True, axis=0)\n",
    "new_data = pd.DataFrame(index=range(0,len(df)),columns=['Date', 'Close'])\n",
    "for i in range(0,len(data)):\n",
    "    new_data['Date'][i] = data['Date'][i]\n",
    "    new_data['Close'][i] = data['Close'][i]"
   ]
  },
  {
   "cell_type": "code",
   "execution_count": 67,
   "metadata": {},
   "outputs": [],
   "source": [
    "new_data.index = new_data.Date\n",
    "new_data.drop('Date', axis=1, inplace=True)"
   ]
  },
  {
   "cell_type": "code",
   "execution_count": 68,
   "metadata": {},
   "outputs": [],
   "source": [
    "dataset = new_data.values"
   ]
  },
  {
   "cell_type": "code",
   "execution_count": 69,
   "metadata": {},
   "outputs": [],
   "source": [
    "train = dataset[0:1812,:]\n",
    "valid = dataset[1812:,:]"
   ]
  },
  {
   "cell_type": "code",
   "execution_count": 70,
   "metadata": {},
   "outputs": [
    {
     "name": "stderr",
     "output_type": "stream",
     "text": [
      "/anaconda/envs/azureml_py36/lib/python3.6/site-packages/sklearn/utils/validation.py:595: DataConversionWarning: Data with input dtype object was converted to float64 by MinMaxScaler.\n",
      "  warnings.warn(msg, DataConversionWarning)\n"
     ]
    }
   ],
   "source": [
    "scaler = MinMaxScaler(feature_range=(0, 1))\n",
    "scaled_data = scaler.fit_transform(dataset)"
   ]
  },
  {
   "cell_type": "code",
   "execution_count": 71,
   "metadata": {},
   "outputs": [],
   "source": [
    "x_train, y_train = [], []\n",
    "for i in range(60,len(train)):\n",
    "    x_train.append(scaled_data[i-60:i,0])\n",
    "    y_train.append(scaled_data[i,0])\n",
    "x_train, y_train = np.array(x_train), np.array(y_train)"
   ]
  },
  {
   "cell_type": "code",
   "execution_count": 72,
   "metadata": {},
   "outputs": [],
   "source": [
    "x_train = np.reshape(x_train, (x_train.shape[0],x_train.shape[1],1))"
   ]
  },
  {
   "cell_type": "code",
   "execution_count": 73,
   "metadata": {},
   "outputs": [],
   "source": [
    "model = Sequential()\n",
    "model.add(LSTM(units=50, return_sequences=True, input_shape=(x_train.shape[1],1)))\n",
    "model.add(LSTM(units=50))\n",
    "model.add(Dense(1))"
   ]
  },
  {
   "cell_type": "code",
   "execution_count": 74,
   "metadata": {},
   "outputs": [
    {
     "name": "stdout",
     "output_type": "stream",
     "text": [
      "Epoch 1/1\n",
      " - 14s - loss: 0.0015\n"
     ]
    },
    {
     "data": {
      "text/plain": [
       "<keras.callbacks.History at 0x7f95b1ac4860>"
      ]
     },
     "execution_count": 74,
     "metadata": {},
     "output_type": "execute_result"
    }
   ],
   "source": [
    "model.compile(loss='mean_squared_error', optimizer='adam')\n",
    "model.fit(x_train, y_train, epochs=1, batch_size=10, verbose=2)"
   ]
  },
  {
   "cell_type": "code",
   "execution_count": 75,
   "metadata": {},
   "outputs": [],
   "source": [
    "inputs = new_data[len(new_data) - len(valid) - 60:].values\n",
    "inputs = inputs.reshape(-1,1)\n",
    "inputs  = scaler.transform(inputs)"
   ]
  },
  {
   "cell_type": "code",
   "execution_count": 76,
   "metadata": {},
   "outputs": [],
   "source": [
    "X_test = []\n",
    "for i in range(60,inputs.shape[0]):\n",
    "    X_test.append(inputs[i-60:i,0])\n",
    "X_test = np.array(X_test)"
   ]
  },
  {
   "cell_type": "code",
   "execution_count": 77,
   "metadata": {},
   "outputs": [],
   "source": [
    "X_test = np.reshape(X_test, (X_test.shape[0],X_test.shape[1],1))\n",
    "#print(X_test)\n",
    "closing_price = model.predict(X_test)\n",
    "closing_price = scaler.inverse_transform(closing_price)"
   ]
  },
  {
   "cell_type": "code",
   "execution_count": 78,
   "metadata": {},
   "outputs": [
    {
     "name": "stdout",
     "output_type": "stream",
     "text": [
      "2.906555084522825\n"
     ]
    }
   ],
   "source": [
    "rms=np.sqrt(np.mean(np.power((valid - closing_price),2)))\n",
    "print(rms)"
   ]
  },
  {
   "cell_type": "code",
   "execution_count": 40,
   "metadata": {},
   "outputs": [
    {
     "name": "stderr",
     "output_type": "stream",
     "text": [
      "/anaconda/envs/azureml_py36/lib/python3.6/site-packages/ipykernel_launcher.py:3: SettingWithCopyWarning: \n",
      "A value is trying to be set on a copy of a slice from a DataFrame.\n",
      "Try using .loc[row_indexer,col_indexer] = value instead\n",
      "\n",
      "See the caveats in the documentation: http://pandas.pydata.org/pandas-docs/stable/indexing.html#indexing-view-versus-copy\n",
      "  This is separate from the ipykernel package so we can avoid doing imports until\n"
     ]
    },
    {
     "data": {
      "text/plain": [
       "[<matplotlib.lines.Line2D at 0x7f95e89de320>,\n",
       " <matplotlib.lines.Line2D at 0x7f95e89de438>]"
      ]
     },
     "execution_count": 40,
     "metadata": {},
     "output_type": "execute_result"
    },
    {
     "data": {
      "image/png": "[encoded data removed]",
      "text/plain": [
       "<Figure size 1440x720 with 1 Axes>"
      ]
     },
     "metadata": {
      "needs_background": "light"
     },
     "output_type": "display_data"
    }
   ],
   "source": [
    "train = new_data[:1812]\n",
    "valid = new_data[1812:]\n",
    "valid['Predictions'] = closing_price\n",
    "plt.plot(train['Close'])\n",
    "plt.plot(valid[['Close','Predictions']])"
   ]
  },
  {
   "cell_type": "code",
   "execution_count": null,
   "metadata": {},
   "outputs": [],
   "source": []
  },
  {
   "cell_type": "code",
   "execution_count": null,
   "metadata": {},
   "outputs": [],
   "source": []
  },
  {
   "cell_type": "code",
   "execution_count": null,
   "metadata": {},
   "outputs": [],
   "source": []
  },
  {
   "cell_type": "code",
   "execution_count": null,
   "metadata": {},
   "outputs": [],
   "source": []
  },
  {
   "cell_type": "code",
   "execution_count": null,
   "metadata": {},
   "outputs": [],
   "source": []
  },
  {
   "cell_type": "code",
   "execution_count": null,
   "metadata": {},
   "outputs": [],
   "source": []
  },
  {
   "cell_type": "code",
   "execution_count": null,
   "metadata": {},
   "outputs": [],
   "source": []
  },
  {
   "cell_type": "code",
   "execution_count": null,
   "metadata": {},
   "outputs": [],
   "source": []
  },
  {
   "cell_type": "code",
   "execution_count": null,
   "metadata": {},
   "outputs": [],
   "source": []
  },
  {
   "cell_type": "code",
   "execution_count": null,
   "metadata": {},
   "outputs": [],
   "source": []
  },
  {
   "cell_type": "code",
   "execution_count": null,
   "metadata": {},
   "outputs": [],
   "source": [
    "import pickle \n",
    "filename = 'finalized_model.sav'\n",
    "pickle.dump(model, open(filename, 'wb'))\n"
   ]
  },
  {
   "cell_type": "code",
   "execution_count": null,
   "metadata": {},
   "outputs": [],
   "source": [
    "saved_model = pickle.dumps(model) \n",
    "\n"
   ]
  },
  {
   "cell_type": "code",
   "execution_count": null,
   "metadata": {},
   "outputs": [],
   "source": [
    "model = pickle.loads(saved_model) \n",
    "knn_from_pickle = pickle.loads(saved_model) \n",
    "knn_from_pickle.predict(X_test) \n",
    "\n"
   ]
  },
  {
   "cell_type": "code",
   "execution_count": null,
   "metadata": {},
   "outputs": [],
   "source": [
    "\n",
    "import pickle\n",
    "# save the classifier\n",
    "with open('my_dumped_classifier.pkl', 'wb') as fid:\n",
    "    pickle.dump(model, fid)\n",
    "    \n",
    "    \n",
    "import _pickle as cPickle\n",
    "with open('my_dumped_classifier2.pkl', 'wb') as fid:\n",
    "    cPickle.dump(model, fid)"
   ]
  },
  {
   "cell_type": "code",
   "execution_count": null,
   "metadata": {},
   "outputs": [],
   "source": [
    "model.save('model.h5')\n"
   ]
  },
  {
   "cell_type": "code",
   "execution_count": null,
   "metadata": {},
   "outputs": [],
   "source": [
    "model.to_pickle('df5.pkl')\n"
   ]
  },
  {
   "cell_type": "code",
   "execution_count": null,
   "metadata": {},
   "outputs": [],
   "source": [
    "from sklearn.externals import joblib\n",
    "joblib.dump(model, \"models12.pkl\")\n"
   ]
  },
  {
   "cell_type": "code",
   "execution_count": null,
   "metadata": {},
   "outputs": [],
   "source": []
  }
 ],
 "metadata": {
  "kernelspec": {
   "display_name": "Python 3.6 - AzureML",
   "language": "python",
   "name": "python3-azureml"
  },
  "language_info": {
   "codemirror_mode": {
    "name": "ipython",
    "version": 3
   },
   "file_extension": ".py",
   "mimetype": "text/x-python",
   "name": "python",
   "nbconvert_exporter": "python",
   "pygments_lexer": "ipython3",
   "version": "3.6.2"
  }
 },
 "nbformat": 4,
 "nbformat_minor": 2
}
